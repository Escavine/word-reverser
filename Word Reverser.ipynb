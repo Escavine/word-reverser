{
 "cells": [
  {
   "cell_type": "code",
   "execution_count": 2,
   "id": "cea70e9f",
   "metadata": {},
   "outputs": [
    {
     "name": "stdout",
     "output_type": "stream",
     "text": [
      "Write down the word that you want spelt reversed Chicken\n"
     ]
    },
    {
     "data": {
      "text/plain": [
       "'nekcihC'"
      ]
     },
     "execution_count": 2,
     "metadata": {},
     "output_type": "execute_result"
    }
   ],
   "source": [
    "word = input(\"Write down the word that you want spelt reversed \")\n",
    "reversed_word = \"\"\n",
    "\n",
    "def recursive_reverse(word):\n",
    "    if word == \"\":\n",
    "        return word\n",
    "    else:\n",
    "        return recursive_reverse(word[1: ]) + (word[0])\n",
    "    \n",
    "recursive_reverse(word)"
   ]
  },
  {
   "cell_type": "code",
   "execution_count": null,
   "id": "41f276c5",
   "metadata": {},
   "outputs": [],
   "source": []
  }
 ],
 "metadata": {
  "kernelspec": {
   "display_name": "Python 3 (ipykernel)",
   "language": "python",
   "name": "python3"
  },
  "language_info": {
   "codemirror_mode": {
    "name": "ipython",
    "version": 3
   },
   "file_extension": ".py",
   "mimetype": "text/x-python",
   "name": "python",
   "nbconvert_exporter": "python",
   "pygments_lexer": "ipython3",
   "version": "3.11.5"
  }
 },
 "nbformat": 4,
 "nbformat_minor": 5
}
